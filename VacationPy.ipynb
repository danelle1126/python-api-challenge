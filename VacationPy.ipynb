{
 "cells": [
  {
   "cell_type": "markdown",
   "metadata": {},
   "source": [
    "# VacationPy\n",
    "----\n",
    "\n",
    "#### Note\n",
    "* Keep an eye on your API usage. Use https://developers.google.com/maps/reporting/gmp-reporting as reference for how to monitor your usage and billing.\n",
    "\n",
    "* Instructions have been included for each segment. You do not have to follow them exactly, but they are included to help you think through the steps."
   ]
  },
  {
   "cell_type": "code",
   "execution_count": 7,
   "metadata": {},
   "outputs": [],
   "source": [
    "# Dependencies and Setup\n",
    "import matplotlib.pyplot as plt\n",
    "import pandas as pd\n",
    "import numpy as np\n",
    "import requests\n",
    "import gmaps\n",
    "import os\n",
    "\n",
    "# Import API key\n",
    "from api_keys import g_key"
   ]
  },
  {
   "cell_type": "markdown",
   "metadata": {},
   "source": [
    "### Store Part I results into DataFrame\n",
    "* Load the csv exported in Part I to a DataFrame"
   ]
  },
  {
   "cell_type": "code",
   "execution_count": 5,
   "metadata": {},
   "outputs": [
    {
     "data": {
      "text/html": [
       "<div>\n",
       "<style scoped>\n",
       "    .dataframe tbody tr th:only-of-type {\n",
       "        vertical-align: middle;\n",
       "    }\n",
       "\n",
       "    .dataframe tbody tr th {\n",
       "        vertical-align: top;\n",
       "    }\n",
       "\n",
       "    .dataframe thead th {\n",
       "        text-align: right;\n",
       "    }\n",
       "</style>\n",
       "<table border=\"1\" class=\"dataframe\">\n",
       "  <thead>\n",
       "    <tr style=\"text-align: right;\">\n",
       "      <th></th>\n",
       "      <th>City</th>\n",
       "      <th>Lat</th>\n",
       "      <th>Lng</th>\n",
       "      <th>Max Temp</th>\n",
       "      <th>Humidity</th>\n",
       "      <th>Cloudiness</th>\n",
       "      <th>Wind Speed</th>\n",
       "      <th>Country</th>\n",
       "      <th>Date</th>\n",
       "    </tr>\n",
       "  </thead>\n",
       "  <tbody>\n",
       "    <tr>\n",
       "      <th>0</th>\n",
       "      <td>Ginda</td>\n",
       "      <td>30.6945</td>\n",
       "      <td>78.4932</td>\n",
       "      <td>49.69</td>\n",
       "      <td>57</td>\n",
       "      <td>98</td>\n",
       "      <td>4.21</td>\n",
       "      <td>IN</td>\n",
       "      <td>1635037541</td>\n",
       "    </tr>\n",
       "    <tr>\n",
       "      <th>1</th>\n",
       "      <td>Great Falls</td>\n",
       "      <td>47.5002</td>\n",
       "      <td>-111.3008</td>\n",
       "      <td>49.41</td>\n",
       "      <td>45</td>\n",
       "      <td>1</td>\n",
       "      <td>8.01</td>\n",
       "      <td>US</td>\n",
       "      <td>1635037569</td>\n",
       "    </tr>\n",
       "    <tr>\n",
       "      <th>2</th>\n",
       "      <td>Wahpeton</td>\n",
       "      <td>46.2652</td>\n",
       "      <td>-96.6059</td>\n",
       "      <td>43.61</td>\n",
       "      <td>75</td>\n",
       "      <td>40</td>\n",
       "      <td>8.05</td>\n",
       "      <td>US</td>\n",
       "      <td>1635037685</td>\n",
       "    </tr>\n",
       "    <tr>\n",
       "      <th>3</th>\n",
       "      <td>Codrington</td>\n",
       "      <td>-38.2667</td>\n",
       "      <td>141.9667</td>\n",
       "      <td>53.08</td>\n",
       "      <td>63</td>\n",
       "      <td>100</td>\n",
       "      <td>15.28</td>\n",
       "      <td>AU</td>\n",
       "      <td>1635037661</td>\n",
       "    </tr>\n",
       "    <tr>\n",
       "      <th>4</th>\n",
       "      <td>Mīzan Teferī</td>\n",
       "      <td>6.9833</td>\n",
       "      <td>35.5833</td>\n",
       "      <td>61.72</td>\n",
       "      <td>69</td>\n",
       "      <td>1</td>\n",
       "      <td>3.11</td>\n",
       "      <td>ET</td>\n",
       "      <td>1635037687</td>\n",
       "    </tr>\n",
       "  </tbody>\n",
       "</table>\n",
       "</div>"
      ],
      "text/plain": [
       "           City      Lat       Lng  Max Temp  Humidity  Cloudiness  \\\n",
       "0         Ginda  30.6945   78.4932     49.69        57          98   \n",
       "1   Great Falls  47.5002 -111.3008     49.41        45           1   \n",
       "2      Wahpeton  46.2652  -96.6059     43.61        75          40   \n",
       "3    Codrington -38.2667  141.9667     53.08        63         100   \n",
       "4  Mīzan Teferī   6.9833   35.5833     61.72        69           1   \n",
       "\n",
       "   Wind Speed Country        Date  \n",
       "0        4.21      IN  1635037541  \n",
       "1        8.01      US  1635037569  \n",
       "2        8.05      US  1635037685  \n",
       "3       15.28      AU  1635037661  \n",
       "4        3.11      ET  1635037687  "
      ]
     },
     "execution_count": 5,
     "metadata": {},
     "output_type": "execute_result"
    }
   ],
   "source": [
    "VacDF = pd.read_csv(\"CityOutput.csv\",index_col = 0)\n",
    "VacDF.head()"
   ]
  },
  {
   "cell_type": "markdown",
   "metadata": {},
   "source": [
    "### Humidity Heatmap\n",
    "* Configure gmaps.\n",
    "* Use the Lat and Lng as locations and Humidity as the weight.\n",
    "* Add Heatmap layer to map."
   ]
  },
  {
   "cell_type": "code",
   "execution_count": 22,
   "metadata": {},
   "outputs": [],
   "source": [
    "gmaps.configure(api_key=g_key)\n",
    "locations = VacDF[[\"Lat\",\"Lng\"]].astype(float)\n",
    "weights = VacDF[\"Humidity\"]"
   ]
  },
  {
   "cell_type": "code",
   "execution_count": 23,
   "metadata": {},
   "outputs": [
    {
     "data": {
      "application/vnd.jupyter.widget-view+json": {
       "model_id": "8bd1e864b82642638d7fbfa9f928e11b",
       "version_major": 2,
       "version_minor": 0
      },
      "text/plain": [
       "Figure(layout=FigureLayout(height='420px'))"
      ]
     },
     "metadata": {},
     "output_type": "display_data"
    }
   ],
   "source": [
    "fig = gmaps.figure()\n",
    "heat_layer = gmaps.heatmap_layer(locations, weights)\n",
    "fig.add_layer(heat_layer)\n",
    "fig"
   ]
  },
  {
   "cell_type": "markdown",
   "metadata": {},
   "source": [
    "### Create new DataFrame fitting weather criteria\n",
    "* Narrow down the cities to fit weather conditions.\n",
    "* Drop any rows will null values."
   ]
  },
  {
   "cell_type": "code",
   "execution_count": 38,
   "metadata": {},
   "outputs": [
    {
     "data": {
      "text/html": [
       "<div>\n",
       "<style scoped>\n",
       "    .dataframe tbody tr th:only-of-type {\n",
       "        vertical-align: middle;\n",
       "    }\n",
       "\n",
       "    .dataframe tbody tr th {\n",
       "        vertical-align: top;\n",
       "    }\n",
       "\n",
       "    .dataframe thead th {\n",
       "        text-align: right;\n",
       "    }\n",
       "</style>\n",
       "<table border=\"1\" class=\"dataframe\">\n",
       "  <thead>\n",
       "    <tr style=\"text-align: right;\">\n",
       "      <th></th>\n",
       "      <th>City</th>\n",
       "      <th>Lat</th>\n",
       "      <th>Lng</th>\n",
       "      <th>Max Temp</th>\n",
       "      <th>Humidity</th>\n",
       "      <th>Cloudiness</th>\n",
       "      <th>Wind Speed</th>\n",
       "      <th>Country</th>\n",
       "      <th>Date</th>\n",
       "    </tr>\n",
       "  </thead>\n",
       "  <tbody>\n",
       "    <tr>\n",
       "      <th>72</th>\n",
       "      <td>Hilo</td>\n",
       "      <td>19.7297</td>\n",
       "      <td>-155.0900</td>\n",
       "      <td>85.28</td>\n",
       "      <td>68</td>\n",
       "      <td>1</td>\n",
       "      <td>9.22</td>\n",
       "      <td>US</td>\n",
       "      <td>1635037565</td>\n",
       "    </tr>\n",
       "    <tr>\n",
       "      <th>127</th>\n",
       "      <td>Tombouctou</td>\n",
       "      <td>20.0000</td>\n",
       "      <td>-3.0000</td>\n",
       "      <td>82.47</td>\n",
       "      <td>22</td>\n",
       "      <td>0</td>\n",
       "      <td>8.39</td>\n",
       "      <td>ML</td>\n",
       "      <td>1635037793</td>\n",
       "    </tr>\n",
       "    <tr>\n",
       "      <th>250</th>\n",
       "      <td>Cabo San Lucas</td>\n",
       "      <td>22.8909</td>\n",
       "      <td>-109.9124</td>\n",
       "      <td>83.61</td>\n",
       "      <td>71</td>\n",
       "      <td>1</td>\n",
       "      <td>5.99</td>\n",
       "      <td>MX</td>\n",
       "      <td>1635037805</td>\n",
       "    </tr>\n",
       "    <tr>\n",
       "      <th>264</th>\n",
       "      <td>Bambanglipuro</td>\n",
       "      <td>-7.9500</td>\n",
       "      <td>110.2833</td>\n",
       "      <td>82.53</td>\n",
       "      <td>71</td>\n",
       "      <td>13</td>\n",
       "      <td>4.74</td>\n",
       "      <td>ID</td>\n",
       "      <td>1635037909</td>\n",
       "    </tr>\n",
       "    <tr>\n",
       "      <th>276</th>\n",
       "      <td>Kloulklubed</td>\n",
       "      <td>7.0419</td>\n",
       "      <td>134.2556</td>\n",
       "      <td>86.50</td>\n",
       "      <td>71</td>\n",
       "      <td>14</td>\n",
       "      <td>2.26</td>\n",
       "      <td>PW</td>\n",
       "      <td>1635037917</td>\n",
       "    </tr>\n",
       "  </tbody>\n",
       "</table>\n",
       "</div>"
      ],
      "text/plain": [
       "               City      Lat       Lng  Max Temp  Humidity  Cloudiness  \\\n",
       "72             Hilo  19.7297 -155.0900     85.28        68           1   \n",
       "127      Tombouctou  20.0000   -3.0000     82.47        22           0   \n",
       "250  Cabo San Lucas  22.8909 -109.9124     83.61        71           1   \n",
       "264   Bambanglipuro  -7.9500  110.2833     82.53        71          13   \n",
       "276     Kloulklubed   7.0419  134.2556     86.50        71          14   \n",
       "\n",
       "     Wind Speed Country        Date  \n",
       "72         9.22      US  1635037565  \n",
       "127        8.39      ML  1635037793  \n",
       "250        5.99      MX  1635037805  \n",
       "264        4.74      ID  1635037909  \n",
       "276        2.26      PW  1635037917  "
      ]
     },
     "execution_count": 38,
     "metadata": {},
     "output_type": "execute_result"
    }
   ],
   "source": [
    "# Miami Beach Weather\n",
    "MiamiDF = VacDF.loc[VacDF[\"Max Temp\"].between(80,90)]\n",
    "MiamiDF = MiamiDF.loc[MiamiDF[\"Humidity\"].between(0,75)]\n",
    "MiamiDF = MiamiDF.loc[MiamiDF[\"Cloudiness\"].between(0,15)]\n",
    "MiamiDF = MiamiDF.loc[MiamiDF[\"Wind Speed\"].between(0,10)]\n",
    "MiamiDF = MiamiDF.dropna()\n",
    "MiamiDF.head()"
   ]
  },
  {
   "cell_type": "markdown",
   "metadata": {},
   "source": [
    "### Hotel Map\n",
    "* Store into variable named `hotel_df`.\n",
    "* Add a \"Hotel Name\" column to the DataFrame.\n",
    "* Set parameters to search for hotels with 5000 meters.\n",
    "* Hit the Google Places API for each city's coordinates.\n",
    "* Store the first Hotel result into the DataFrame.\n",
    "* Plot markers on top of the heatmap."
   ]
  },
  {
   "cell_type": "code",
   "execution_count": null,
   "metadata": {},
   "outputs": [],
   "source": [
    "hotel_df = MiamiDF\n",
    "hotel_df[\"Hotel Name\"]=\"\""
   ]
  },
  {
   "cell_type": "code",
   "execution_count": null,
   "metadata": {},
   "outputs": [],
   "source": [
    "base_url = \"https://maps.googleapis.com/maps/api/place/nearbysearch/json\"\n",
    "params = {\n",
    "    \"rankby\": \"distance\",\n",
    "    \"keyword\": \"hotel\",\n",
    "    \"key\": gkey,\n",
    "}"
   ]
  },
  {
   "cell_type": "code",
   "execution_count": null,
   "metadata": {},
   "outputs": [],
   "source": [
    "# NOTE: Do not change any of the code in this cell\n",
    "\n",
    "# Using the template add the hotel marks to the heatmap\n",
    "info_box_template = \"\"\"\n",
    "<dl>\n",
    "<dt>Name</dt><dd>{Hotel Name}</dd>\n",
    "<dt>City</dt><dd>{City}</dd>\n",
    "<dt>Country</dt><dd>{Country}</dd>\n",
    "</dl>\n",
    "\"\"\"\n",
    "# Store the DataFrame Row\n",
    "# NOTE: be sure to update with your DataFrame name\n",
    "hotel_info = [info_box_template.format(**row) for index, row in hotel_df.iterrows()]\n",
    "locations = hotel_df[[\"Lat\", \"Lng\"]]"
   ]
  },
  {
   "cell_type": "code",
   "execution_count": null,
   "metadata": {},
   "outputs": [],
   "source": [
    "# Add marker layer ontop of heat map\n",
    "\n",
    "\n",
    "# Display figure\n"
   ]
  },
  {
   "cell_type": "code",
   "execution_count": null,
   "metadata": {},
   "outputs": [],
   "source": []
  }
 ],
 "metadata": {
  "kernelspec": {
   "display_name": "Python 3",
   "language": "python",
   "name": "python3"
  },
  "language_info": {
   "codemirror_mode": {
    "name": "ipython",
    "version": 3
   },
   "file_extension": ".py",
   "mimetype": "text/x-python",
   "name": "python",
   "nbconvert_exporter": "python",
   "pygments_lexer": "ipython3",
   "version": "3.8.8"
  },
  "latex_envs": {
   "LaTeX_envs_menu_present": true,
   "autoclose": false,
   "autocomplete": true,
   "bibliofile": "biblio.bib",
   "cite_by": "apalike",
   "current_citInitial": 1,
   "eqLabelWithNumbers": true,
   "eqNumInitial": 1,
   "hotkeys": {
    "equation": "Ctrl-E",
    "itemize": "Ctrl-I"
   },
   "labels_anchors": false,
   "latex_user_defs": false,
   "report_style_numbering": false,
   "user_envs_cfg": false
  }
 },
 "nbformat": 4,
 "nbformat_minor": 4
}
